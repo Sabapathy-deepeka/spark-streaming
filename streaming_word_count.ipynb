{
 "cells": [
  {
   "cell_type": "code",
   "execution_count": 0,
   "metadata": {
    "application/vnd.databricks.v1+cell": {
     "cellMetadata": {
      "byteLimit": 2048000,
      "rowLimit": 10000
     },
     "inputWidgets": {},
     "nuid": "655031dd-2427-436a-9cee-24e723a8b1c5",
     "showTitle": false,
     "tableResultSettingsMap": {},
     "title": ""
    }
   },
   "outputs": [],
   "source": [
    "from pyspark.sql.functions import explode, split, trim, col, lower\n",
    "class streamWordCount:\n",
    "    def __init__(self):\n",
    "        self.base_data = \"/Volumes/spark-catalog/sandbox/sample_data/\"\n",
    "    \n",
    "    def getRawData(self):\n",
    "        lines = (spark.readStream\n",
    "                     .format(\"text\") \\\n",
    "                     .option(\"lineSep\", \".\") \\\n",
    "                     .load(f\"{self.base_data}/text_data_*.txt\"))\n",
    "        return lines.select(explode(split(col(\"value\"), \" \")).alias(\"word\"))\n",
    "    \n",
    "    def getRefinedData(self, rawData):\n",
    "        return (self.getRawData()\n",
    "                    .select(trim(lower(col(\"word\"))).alias(\"word\"))\n",
    "                    .where(col(\"word\") != \"\")\n",
    "                    .where(\"word rlike '[a-z]'\"))\n",
    "    \n",
    "    def getwordCount(self,refinedData):\n",
    "        return refinedData.groupBy(\"word\").count()\n",
    "\n",
    "    def overwriteWordCount(self,wordCount):\n",
    "        wordCount.writeStream \\\n",
    "                 .format(\"delta\") \\\n",
    "                 .option(\"checkpointLocation\", f\"{self.base_data}/checkpoint/word_count\") \\\n",
    "                 .outputMode(\"complete\") \\\n",
    "                 .toTable(\"word_count_stream\")\n",
    "    \n",
    "    def streamRun(self):\n",
    "        print(\"Starting Streaming Word Count\")\n",
    "        rawData = self.getRawData()\n",
    "        refinedData = self.getRefinedData(rawData)\n",
    "        wordCount = self.getwordCount(refinedData)\n",
    "        query = self.overwriteWordCount(wordCount)\n",
    "        print(\"DONE\")\n",
    "        return(query)\n",
    "\n"
   ]
  }
 ],
 "metadata": {
  "application/vnd.databricks.v1+notebook": {
   "computePreferences": null,
   "dashboards": [],
   "environmentMetadata": {
    "base_environment": "",
    "environment_version": "4"
   },
   "inputWidgetPreferences": null,
   "language": "python",
   "notebookMetadata": {
    "pythonIndentUnit": 4
   },
   "notebookName": "streaming_word_count",
   "widgets": {}
  },
  "language_info": {
   "name": "python"
  }
 },
 "nbformat": 4,
 "nbformat_minor": 0
}